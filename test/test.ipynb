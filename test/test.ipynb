{
 "cells": [
  {
   "cell_type": "code",
   "execution_count": 2,
   "metadata": {
    "collapsed": true,
    "pycharm": {
     "is_executing": false
    }
   },
   "outputs": [
    {
     "name": "stdout",
     "text": [
      "[[1. 1. 1. 1. 1.]\n [2. 2. 2. 2. 2.]]\n"
     ],
     "output_type": "stream"
    }
   ],
   "source": [
    "import numpy as np\n",
    "'''加载数据集'''\n",
    "fileName = '../resources/data/author.txt'\n",
    "dataSet = [] # 初始化一个空列表\n",
    "fr = open(fileName)\n",
    "for line in fr.readlines():\n",
    "    # 切割每一行的数据\n",
    "    curLine = line.strip().split(',')\n",
    "    # 将数据追加到dataMat，映射所有的元素为 float类型\n",
    "    fltLine = list(map(float,curLine))    \n",
    "    dataSet.append(fltLine)\n",
    "print(np.mat(dataSet))\n"
   ]
  }
 ],
 "metadata": {
  "language_info": {
   "codemirror_mode": {
    "name": "ipython",
    "version": 2
   },
   "file_extension": ".py",
   "mimetype": "text/x-python",
   "name": "python",
   "nbconvert_exporter": "python",
   "pygments_lexer": "ipython2",
   "version": "2.7.6"
  },
  "kernelspec": {
   "name": "python3",
   "language": "python",
   "display_name": "Python 3"
  },
  "pycharm": {
   "stem_cell": {
    "cell_type": "raw",
    "source": [],
    "metadata": {
     "collapsed": false
    }
   }
  }
 },
 "nbformat": 4,
 "nbformat_minor": 0
}