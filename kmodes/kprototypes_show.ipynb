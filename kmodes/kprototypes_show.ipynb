{
 "cells": [
  {
   "cell_type": "code",
   "execution_count": null,
   "metadata": {
    "collapsed": true
   },
   "outputs": [],
   "source": [
    "# library(grid)\n",
    "# library(ggplot2)\n",
    "# \n",
    "# s1 <- read.csv('s1.csv', header=T)\n",
    "# s2<- read.csv('s2.csv', header=T)\n",
    "# p1 <- ggplot(s1, aes(X0,X1, color=as.factor(X4))) + geom_point()\n",
    "# p2 <- ggplot(s2, aes(X0,X1, color=as.factor(X4))) + geom_point()\n",
    "# grid.newpage()\n",
    "# vp1 <- viewport(x=0, y=0.5, width=1,height=0.5, just=c('left','bottom'))\n",
    "# vp2 <- viewport(x=0, y=0, width=1,height=0.5, just=c('left','bottom'))\n",
    "# print(p1, vp=vp1)\n",
    "# print(p2, vp=vp2)"
   ]
  }
 ],
 "metadata": {
  "language_info": {
   "codemirror_mode": {
    "name": "ipython",
    "version": 2
   },
   "file_extension": ".py",
   "mimetype": "text/x-python",
   "name": "python",
   "nbconvert_exporter": "python",
   "pygments_lexer": "ipython2",
   "version": "2.7.6"
  },
  "kernelspec": {
   "name": "python3",
   "language": "python",
   "display_name": "Python 3"
  },
  "pycharm": {
   "stem_cell": {
    "cell_type": "raw",
    "source": [],
    "metadata": {
     "collapsed": false
    }
   }
  }
 },
 "nbformat": 4,
 "nbformat_minor": 0
}