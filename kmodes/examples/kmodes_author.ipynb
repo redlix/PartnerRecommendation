{
 "cells": [
  {
   "cell_type": "code",
   "execution_count": 1,
   "metadata": {
    "collapsed": true,
    "pycharm": {
     "is_executing": false
    }
   },
   "outputs": [
    {
     "name": "stdout",
     "text": [
      "正确率：0.94765\n"
     ],
     "output_type": "stream"
    }
   ],
   "source": [
    "import numpy as np\n",
    "from kmodes import kmodes\n",
    "\n",
    "'''生成互相无交集的离散属性样本集'''\n",
    "data1 = np.random.randint(1,6,(10000,10))\n",
    "data2 = np.random.randint(6,12,(10000,10))\n",
    "\n",
    "data = np.concatenate((data1,data2))\n",
    "\n",
    "'''进行K-modes聚类'''\n",
    "km = kmodes.KModes(n_clusters=2)\n",
    "clusters = km.fit_predict(data)\n",
    "\n",
    "'''计算正确归类率'''\n",
    "score = np.sum(clusters[:int(len(clusters) / 2)]) + (len(clusters) / 2-np.sum(clusters[int(len(clusters) / 2):]))\n",
    "score = score / len(clusters)\n",
    "if score >= 0.5:\n",
    "    print('正确率：' + str(score))\n",
    "else:\n",
    "    print('正确率：' + str(1-score))\n"
   ]
  }
 ],
 "metadata": {
  "language_info": {
   "codemirror_mode": {
    "name": "ipython",
    "version": 2
   },
   "file_extension": ".py",
   "mimetype": "text/x-python",
   "name": "python",
   "nbconvert_exporter": "python",
   "pygments_lexer": "ipython2",
   "version": "2.7.6"
  },
  "kernelspec": {
   "name": "python3",
   "language": "python",
   "display_name": "Python 3"
  },
  "pycharm": {
   "stem_cell": {
    "cell_type": "raw",
    "source": [],
    "metadata": {
     "collapsed": false
    }
   }
  }
 },
 "nbformat": 4,
 "nbformat_minor": 0
}